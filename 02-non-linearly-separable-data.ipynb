{
  "cells": [
    {
      "cell_type": "markdown",
      "metadata": {
        "id": "0Lw8x38y270n"
      },
      "source": [
        "# Non-Linearly Separable Data\n",
        "## CSC2034\n",
        "### Cameron Trotter (c.trotter2@ncl.ac.uk)\n",
        "\n",
        "### Google Colab Setup\n",
        "\n",
        "All of the notebooks you will be running in these lab sessions are designed to be ran using [Google Colab](https://colab.research.google.com/). For setup instructions, see this repo's README. \n",
        "\n",
        "In order to make things work on colab, we need to clone this repo and then (in another cell because colab dictates this...) move into the repo directory."
      ]
    },
    {
      "cell_type": "code",
      "execution_count": 1,
      "metadata": {
        "id": "miHJwZIK270p",
        "outputId": "ab3d0453-bfee-46e0-df0a-8af6ca9720ef",
        "colab": {
          "base_uri": "https://localhost:8080/"
        }
      },
      "outputs": [
        {
          "output_type": "stream",
          "name": "stdout",
          "text": [
            "Cloning into 'csc2034-ds-demos'...\n",
            "remote: Enumerating objects: 127, done.\u001b[K\n",
            "remote: Counting objects: 100% (127/127), done.\u001b[K\n",
            "remote: Compressing objects: 100% (91/91), done.\u001b[K\n",
            "remote: Total 127 (delta 49), reused 107 (delta 32), pack-reused 0\u001b[K\n",
            "Receiving objects: 100% (127/127), 3.66 MiB | 18.03 MiB/s, done.\n",
            "Resolving deltas: 100% (49/49), done.\n"
          ]
        }
      ],
      "source": [
        "!git clone https://github.com/Trotts/csc2034-ds-demos.git"
      ]
    },
    {
      "cell_type": "code",
      "execution_count": 2,
      "metadata": {
        "id": "que6DvbT270r"
      },
      "outputs": [],
      "source": [
        "import os\n",
        "os.chdir('csc2034-ds-demos')"
      ]
    },
    {
      "cell_type": "markdown",
      "metadata": {
        "id": "XMA3ygXr270s"
      },
      "source": [
        "### Building Synthetic Data\n",
        "\n",
        "As well as being able to produce linearly separable data, `sklearn` can also produce non-linarly separable data. This data cannot be split using a single line, e.g. data which is *circular*. Like the first notebook, let's build a synthetic dataset to work with. \n",
        "\n",
        "Task: Using sklearn's `make_circles` method, build a non-linearly separable dataset. The [docs](https://scikit-learn.org/stable/modules/generated/sklearn.datasets.make_circles.html) may help you. I have provided the hyperparameters you will need. "
      ]
    },
    {
      "cell_type": "code",
      "execution_count": null,
      "metadata": {
        "id": "8r-J4vA3270t"
      },
      "outputs": [],
      "source": [
        "from sklearn.datasets import make_circles\n",
        "\n",
        "n_samples = 1000\n",
        "noise = 0.1\n",
        "factor = 0.5\n",
        "random_state = 1\n",
        "\n",
        "data, labels = #..."
      ]
    },
    {
      "cell_type": "markdown",
      "metadata": {
        "id": "jSo7NvT7270t"
      },
      "source": [
        "Now we have a dataset, let's visualise it."
      ]
    },
    {
      "cell_type": "code",
      "execution_count": null,
      "metadata": {
        "id": "hLSFUC1i270u"
      },
      "outputs": [],
      "source": [
        "from helpers import show_scatterplot\n",
        "\n",
        "show_scatterplot(data, labels, 'Non-linearly separable data')"
      ]
    },
    {
      "cell_type": "markdown",
      "metadata": {
        "id": "outVxZqA270u"
      },
      "source": [
        "### Can We Use Linear Models?\n",
        "\n",
        "As you might be able to tell from the scatterplot above, it will not be possible with the data distribution we have created to generate a line of best fit. To prove this, we can try. \n",
        "\n",
        "Task: Create a Logistic Regression model, based on the code from `01-linearly-separable-data`, fit it to the dataset, generate a line of best fit, and predict on the test set. Remeber to split and scale your data!"
      ]
    },
    {
      "cell_type": "code",
      "execution_count": null,
      "metadata": {
        "id": "337Jth0B270v"
      },
      "outputs": [],
      "source": [
        "from sklearn.model_selection import train_test_split\n",
        "from sklearn.preprocessing import StandardScaler\n",
        "from sklearn.linear_model import LogisticRegression\n",
        "\n",
        "# Delete below except data_train/test, labels_train/test, logistic_regression_label_predictions\n",
        "data_train, data_test, labels_train,  labels_test = #...\n",
        "\n",
        "#...\n",
        "\n",
        "logistic_regression_label_predictions = #..."
      ]
    },
    {
      "cell_type": "markdown",
      "metadata": {
        "id": "UB6igqtY270w"
      },
      "source": [
        "Let's plot the line of best fit, and output some evaluation metrics."
      ]
    },
    {
      "cell_type": "code",
      "execution_count": null,
      "metadata": {
        "id": "oaGvZfzx270w"
      },
      "outputs": [],
      "source": [
        "from helpers import plot_linear_fit\n",
        "from sklearn.metrics import accuracy_score\n",
        "\n",
        "\n",
        "plot_linear_fit(logistic_regression, data_test_scaled, labels_test,\n",
        "                \"Logistic regression line of best fit and test data\")\n",
        "\n",
        "\n",
        "test_acc = accuracy_score(labels_test, logistic_regression_label_predictions)\n",
        "\n",
        "\n",
        "print(f\"Test acc: {test_acc * 100}%\")"
      ]
    },
    {
      "cell_type": "markdown",
      "metadata": {
        "id": "T-xbQM95270x"
      },
      "source": [
        "Run the below checks. If any return False, take another look at the code you have written before continuing. "
      ]
    },
    {
      "cell_type": "code",
      "execution_count": null,
      "metadata": {
        "id": "A9QoZ_aG270x"
      },
      "outputs": [],
      "source": [
        "print(f\"Test acc check: {test_acc == 0.45}\")"
      ]
    },
    {
      "cell_type": "markdown",
      "metadata": {
        "id": "tp1Xdk4n270y"
      },
      "source": [
        "The line of best fit generated by the model is not capable of capturing the non-linearity of data, and this is reflected in the low test accuracy. "
      ]
    },
    {
      "cell_type": "markdown",
      "metadata": {
        "id": "baCA9WZe270y"
      },
      "source": [
        "### Using Non-Linear Models\n",
        "\n",
        "#### Decision Trees\n",
        "\n",
        "Some models however can be used for linear or non-linear datasets. One of these is decision trees. \n",
        "\n",
        "Task: Create a Decision Tree model, based on the code from `01-linearly-separable-data`, fit it to the dataset, and predict on the test set. "
      ]
    },
    {
      "cell_type": "code",
      "execution_count": null,
      "metadata": {
        "id": "445wIhXC270z"
      },
      "outputs": [],
      "source": [
        "from sklearn import tree\n",
        "\n",
        "decision_tree = #...\n",
        "\n",
        "print(f\"Test acc: {test_acc * 100}%\")"
      ]
    },
    {
      "cell_type": "markdown",
      "metadata": {
        "id": "OvIjbfdL2700"
      },
      "source": [
        "Run the below checks. If any return False, take another look at the code you have written before continuing. "
      ]
    },
    {
      "cell_type": "code",
      "execution_count": null,
      "metadata": {
        "id": "rSk0sDpL2700"
      },
      "outputs": [],
      "source": [
        "print(f\"Test acc check: {test_acc == 0.975}\")"
      ]
    },
    {
      "cell_type": "markdown",
      "metadata": {
        "id": "Fol5hFpY2701"
      },
      "source": [
        "Let's visualise the state space produced by the decision tree..."
      ]
    },
    {
      "cell_type": "code",
      "execution_count": null,
      "metadata": {
        "id": "6s5tCADM2701"
      },
      "outputs": [],
      "source": [
        "from helpers import plot_contour_fit\n",
        "\n",
        "plot_contour_fit(decision_tree, data_train_scaled, labels_train, data_test_scaled, labels_test)\n"
      ]
    },
    {
      "cell_type": "markdown",
      "metadata": {
        "id": "YFnOqKZC2701"
      },
      "source": [
        "The state space is capable of capturing the non-lineararity of the data. We can also visualise the tree using `graphviz`, but this may not be very informative for our generated data. \n",
        "\n",
        "#### Non-Linear SVM\n",
        "\n",
        "SVMs are another model that can be either linear or non-linear. This depends on the kernel hyperparameter. Like before, lets see how a linear SVM performs on the data.\n",
        "\n",
        "Task: Create a Linear SVM model, based on the code from `01-linearly-separable-data`, fit it to the dataset, and predict on the test set. "
      ]
    },
    {
      "cell_type": "code",
      "execution_count": null,
      "metadata": {
        "id": "IZW8nC_p2702"
      },
      "outputs": [],
      "source": [
        "from sklearn.svm import LinearSVC\n",
        "\n",
        "svm = #...\n",
        "\n",
        "print(f\"Test acc: {test_acc * 100}%\")\n",
        "plot_linear_fit(svm, data_test_scaled, labels_test,\n",
        "                \"Linear SVM fit on test data\")"
      ]
    },
    {
      "cell_type": "markdown",
      "metadata": {
        "id": "gbGaYLIo2702"
      },
      "source": [
        "Not much better than the Logistic Regression. What about if we change the kernel so that we can work with non-linear data? For this, we can utilise sklearn's `SVC` model implementation, the docs for which can be found [here](https://scikit-learn.org/stable/modules/generated/sklearn.svm.SVC.html).\n",
        "\n",
        "Task: Build a non-linear SVM using the following hyperparameters, fit it to the data, and use it to predict on the test set. "
      ]
    },
    {
      "cell_type": "code",
      "execution_count": null,
      "metadata": {
        "id": "7M9iGjBb2703"
      },
      "outputs": [],
      "source": [
        "from sklearn.svm import SVC\n",
        "\n",
        "kernel = 'poly'\n",
        "degree = 3\n",
        "C = 5\n",
        "coef0 = 1\n",
        "\n",
        "non_linear_svm = #...\n",
        "\n",
        "print(f\"Test acc: {test_acc * 100}%\")\n",
        "plot_contour_fit(non_linear_svm, data_train_scaled, labels_train,\n",
        "                 data_test_scaled, labels_test)"
      ]
    },
    {
      "cell_type": "markdown",
      "metadata": {
        "id": "JZDPRPbu2703"
      },
      "source": [
        "There are multiple different non-linear kernels we can use. How does utilising another effect the SVM?\n",
        "\n",
        "Task: Implement a non-linear SVM with the `rbf` kernel, and produce a test accuracy and plot."
      ]
    },
    {
      "cell_type": "code",
      "execution_count": null,
      "metadata": {
        "id": "89aNfBcu2704"
      },
      "outputs": [],
      "source": [
        "#...\n",
        "\n",
        "print(f\"Test acc: {test_acc * 100}%\")\n",
        "plot_contour_fit(non_linear_svm, data_train_scaled, labels_train,\n",
        "                 data_test_scaled, labels_test)"
      ]
    },
    {
      "cell_type": "markdown",
      "metadata": {
        "id": "HxFjndmy2704"
      },
      "source": [
        "Your state space should now be completely different, however the accuracy is very similar. A little bit of this is due to the ease of the data we created. Try out other hyperparameters and see if you can get better!"
      ]
    },
    {
      "cell_type": "code",
      "execution_count": null,
      "metadata": {
        "id": "vXfk0vF82705"
      },
      "outputs": [],
      "source": [
        ""
      ]
    }
  ],
  "metadata": {
    "kernelspec": {
      "display_name": "Python 3",
      "language": "python",
      "name": "python3"
    },
    "language_info": {
      "codemirror_mode": {
        "name": "ipython",
        "version": 3
      },
      "file_extension": ".py",
      "mimetype": "text/x-python",
      "name": "python",
      "nbconvert_exporter": "python",
      "pygments_lexer": "ipython3",
      "version": "3.9.0"
    },
    "colab": {
      "name": "02-non-linearly-separable-data.ipynb",
      "provenance": []
    }
  },
  "nbformat": 4,
  "nbformat_minor": 0
}